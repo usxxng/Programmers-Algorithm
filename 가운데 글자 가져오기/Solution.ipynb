{
 "metadata": {
  "language_info": {
   "codemirror_mode": {
    "name": "ipython",
    "version": 3
   },
   "file_extension": ".py",
   "mimetype": "text/x-python",
   "name": "python",
   "nbconvert_exporter": "python",
   "pygments_lexer": "ipython3",
   "version": "3.8.3-final"
  },
  "orig_nbformat": 2,
  "kernelspec": {
   "name": "python3",
   "display_name": "Python 3",
   "language": "python"
  }
 },
 "nbformat": 4,
 "nbformat_minor": 2,
 "cells": [
  {
   "cell_type": "code",
   "execution_count": 2,
   "metadata": {},
   "outputs": [
    {
     "output_type": "stream",
     "name": "stdout",
     "text": [
      "test1 :  abcde \t result :  c\ntest2 :  qwer \tresult :  we\n"
     ]
    }
   ],
   "source": [
    "def solution(s):\n",
    "    if len(s) % 2 == 0:\n",
    "        answer = s[(len(s)//2)-1:len(s)//2+1]\n",
    "    else:\n",
    "        answer = s[len(s)//2]\n",
    "        \n",
    "    return answer\n",
    "\n",
    "\n",
    "# Code Test\n",
    "test1 = \"abcde\"\n",
    "test2 = \"qwer\"\n",
    "\n",
    "output1 = solution(test1)\n",
    "output2 = solution(test2)\n",
    "\n",
    "print(\"test1 : \", test1, \"\\t result : \", output1)\n",
    "print(\"test2 : \", test2, \"\\tresult : \", output2)"
   ]
  },
  {
   "cell_type": "code",
   "execution_count": null,
   "metadata": {},
   "outputs": [],
   "source": []
  }
 ]
}