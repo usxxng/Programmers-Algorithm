{
 "cells": [
  {
   "cell_type": "code",
   "execution_count": 1,
   "metadata": {},
   "outputs": [
    {
     "name": "stdout",
     "output_type": "stream",
     "text": [
      "price : 3 \t money : 20 \t count : 4 \t result :  10\n"
     ]
    }
   ],
   "source": [
    "def solution(price, money, count):\r\n",
    "    total = 0\r\n",
    "    for i in range(count+1):\r\n",
    "        total += (price*i)\r\n",
    "\r\n",
    "    return max(0, abs(money-total))\r\n",
    "\r\n",
    "# Code Test\r\n",
    "\r\n",
    "output = solution(3, 20, 4)\r\n",
    "\r\n",
    "print(\"price : 3 \\t money : 20 \\t count : 4 \\t result : \", output)\r\n"
   ]
  },
  {
   "cell_type": "code",
   "execution_count": null,
   "metadata": {},
   "outputs": [],
   "source": []
  }
 ],
 "metadata": {
  "kernelspec": {
   "display_name": "Python 3.8.3 64-bit",
   "name": "python383jvsc74a57bd01f19f11acd7ec6b501b4b7e19aa05f8a6901012cab7bd969d3db41df9c9abd2e"
  },
  "language_info": {
   "codemirror_mode": {
    "name": "ipython",
    "version": 3
   },
   "file_extension": ".py",
   "mimetype": "text/x-python",
   "name": "python",
   "nbconvert_exporter": "python",
   "pygments_lexer": "ipython3",
   "version": "3.8.3"
  },
  "metadata": {
   "interpreter": {
    "hash": "1f19f11acd7ec6b501b4b7e19aa05f8a6901012cab7bd969d3db41df9c9abd2e"
   }
  },
  "orig_nbformat": 2
 },
 "nbformat": 4,
 "nbformat_minor": 2
}