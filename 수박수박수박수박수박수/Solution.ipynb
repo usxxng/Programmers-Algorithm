{
 "metadata": {
  "language_info": {
   "codemirror_mode": {
    "name": "ipython",
    "version": 3
   },
   "file_extension": ".py",
   "mimetype": "text/x-python",
   "name": "python",
   "nbconvert_exporter": "python",
   "pygments_lexer": "ipython3",
   "version": "3.8.3-final"
  },
  "orig_nbformat": 2,
  "kernelspec": {
   "name": "python3",
   "display_name": "Python 3",
   "language": "python"
  }
 },
 "nbformat": 4,
 "nbformat_minor": 2,
 "cells": [
  {
   "cell_type": "code",
   "execution_count": 1,
   "metadata": {},
   "outputs": [
    {
     "output_type": "stream",
     "name": "stdout",
     "text": [
      "n : 3 \t return :  수박수\nn : 4 \t return :  수박수박\n"
     ]
    }
   ],
   "source": [
    "def solution(n):\n",
    "    answer = []\n",
    "    for i in range(1, n+1):\n",
    "        if i % 2 == 1:\n",
    "            answer.append(\"수\")\n",
    "        else:\n",
    "            answer.append(\"박\")\n",
    "\n",
    "    answer = ''.join(answer)\n",
    "    return answer\n",
    "\n",
    "# Code Test\n",
    "\n",
    "output1 = solution(3)\n",
    "output2 = solution(4)\n",
    "\n",
    "print(\"n : 3 \\t return : \", output1)\n",
    "print(\"n : 4 \\t return : \", output2)"
   ]
  },
  {
   "cell_type": "code",
   "execution_count": null,
   "metadata": {},
   "outputs": [],
   "source": []
  }
 ]
}