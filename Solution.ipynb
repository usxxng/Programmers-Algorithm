{
 "cells": [
  {
   "cell_type": "code",
   "execution_count": 4,
   "id": "aerial-change",
   "metadata": {},
   "outputs": [
    {
     "name": "stdout",
     "output_type": "stream",
     "text": [
      "test1 :  [2, 1, 3, 4, 1] \t result :  [2, 3, 4, 5, 6, 7]\n",
      "test2 :  [5, 0, 2, 7] \t\t result :  [2, 5, 7, 9, 12]\n"
     ]
    }
   ],
   "source": [
    "def solution(numbers):\n",
    "    answer = []\n",
    "    for i in range(len(numbers)):\n",
    "        for j in range(i+1, len(numbers)):\n",
    "            ans = numbers[i] + numbers[j]\n",
    "            answer.append(ans)\n",
    "            \n",
    "    answer = set(answer)\n",
    "    answer = list(answer)\n",
    "    answer.sort()\n",
    "    \n",
    "    return answer\n",
    "\n",
    "\n",
    "# Code Test\n",
    "test1 = [2,1,3,4,1]\n",
    "test2 = [5,0,2,7]\n",
    "\n",
    "output1 = solution(test1)\n",
    "output2 = solution(test2)\n",
    "\n",
    "print(\"test1 : \", test1, \"\\t result : \", output1)\n",
    "print(\"test2 : \", test2, \"\\t\\t result : \", output2)"
   ]
  },
  {
   "cell_type": "code",
   "execution_count": null,
   "id": "streaming-oxide",
   "metadata": {},
   "outputs": [],
   "source": []
  }
 ],
 "metadata": {
  "kernelspec": {
   "display_name": "Python 3",
   "language": "python",
   "name": "python3"
  },
  "language_info": {
   "codemirror_mode": {
    "name": "ipython",
    "version": 3
   },
   "file_extension": ".py",
   "mimetype": "text/x-python",
   "name": "python",
   "nbconvert_exporter": "python",
   "pygments_lexer": "ipython3",
   "version": "3.8.3"
  }
 },
 "nbformat": 4,
 "nbformat_minor": 5
}
