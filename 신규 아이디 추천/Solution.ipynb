{
 "cells": [
  {
   "cell_type": "code",
   "execution_count": 1,
   "metadata": {},
   "outputs": [
    {
     "name": "stdout",
     "output_type": "stream",
     "text": [
      "new_id : ...!@BaT#*..y.abcdefghijklm \t result :  bat.y.abcdefghi\n",
      "new_id : z-+.^. \t result :  z--\n",
      "new_id : =.= \t result :  aaa\n"
     ]
    }
   ],
   "source": [
    "import re\r\n",
    "def solution(new_id):\r\n",
    "    answer = ''\r\n",
    "    answer = new_id.lower()\r\n",
    "    answer = re.sub('[^a-z0-9\\-\\_\\.]','',answer)\r\n",
    "    answer = re.sub('\\.{2,}','.',answer)\r\n",
    "    answer = re.sub('^\\.|\\.$','',answer)\r\n",
    "    answer = 'a' if answer == '' else answer\r\n",
    "    answer = answer[:15] if len(answer) > 15 else answer\r\n",
    "    answer = re.sub('\\.$','',answer)\r\n",
    "    while True:\r\n",
    "        if len(answer)>2:\r\n",
    "            break\r\n",
    "        answer = answer + answer [-1]\r\n",
    "    return answer\r\n",
    "\r\n",
    "\r\n",
    "# code test\r\n",
    "\r\n",
    "print(\"new_id : ...!@BaT#*..y.abcdefghijklm \\t result : \", solution(\"...!@BaT#*..y.abcdefghijklm\"))\r\n",
    "print(\"new_id : z-+.^. \\t result : \", solution(\"z-+.^.\"))\r\n",
    "print(\"new_id : =.= \\t result : \", solution(\"=.=\"))"
   ]
  }
 ],
 "metadata": {
  "kernelspec": {
   "display_name": "Python 3.8.3 64-bit",
   "name": "python383jvsc74a57bd01f19f11acd7ec6b501b4b7e19aa05f8a6901012cab7bd969d3db41df9c9abd2e"
  },
  "language_info": {
   "codemirror_mode": {
    "name": "ipython",
    "version": 3
   },
   "file_extension": ".py",
   "mimetype": "text/x-python",
   "name": "python",
   "nbconvert_exporter": "python",
   "pygments_lexer": "ipython3",
   "version": "3.8.3"
  },
  "metadata": {
   "interpreter": {
    "hash": "1f19f11acd7ec6b501b4b7e19aa05f8a6901012cab7bd969d3db41df9c9abd2e"
   }
  },
  "orig_nbformat": 3
 },
 "nbformat": 4,
 "nbformat_minor": 2
}