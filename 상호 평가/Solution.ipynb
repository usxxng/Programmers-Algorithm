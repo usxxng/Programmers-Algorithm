{
 "cells": [
  {
   "cell_type": "code",
   "execution_count": 1,
   "metadata": {},
   "outputs": [
    {
     "name": "stdout",
     "output_type": "stream",
     "text": [
      "scores1 : [[100,90,98,88,65],[50,45,99,85,77],[47,88,95,80,67],[61,57,100,80,65],[24,90,94,75,65]] \t result :  FBABD\n",
      "scores2 : [[50,90],[50,87]] \t result :  DA\n",
      "scores3 : [[70,49,90],[68,50,38],[73,31,100]] \t result :  CFD\n"
     ]
    }
   ],
   "source": [
    "def solution(scores):\r\n",
    "    answer = []\r\n",
    "    \r\n",
    "    for i in range(len(scores)):\r\n",
    "        temp = []\r\n",
    "        for j in range(len(scores)):\r\n",
    "            temp.append(scores[j][i])\r\n",
    "        \r\n",
    "        if scores[i][i] == max(temp) or scores[i][i] == min(temp):\r\n",
    "            if temp.count(scores[i][i]) == 1:\r\n",
    "                temp.remove(scores[i][i])\r\n",
    "\r\n",
    "        avg = sum(temp)/len(temp)\r\n",
    "    \r\n",
    "        if avg >= 90:\r\n",
    "            answer.append(\"A\")\r\n",
    "        elif avg >= 80:\r\n",
    "            answer.append(\"B\")\r\n",
    "        elif avg >= 70:\r\n",
    "            answer.append(\"C\")\r\n",
    "        elif avg >= 50:\r\n",
    "            answer.append(\"D\")    \r\n",
    "        else:\r\n",
    "            answer.append(\"F\")\r\n",
    "\r\n",
    "    return \"\".join(answer)\r\n",
    "\r\n",
    "# Code Test\r\n",
    "\r\n",
    "scores1 = solution([[100,90,98,88,65],[50,45,99,85,77],[47,88,95,80,67],[61,57,100,80,65],[24,90,94,75,65]])\r\n",
    "scores2 = solution([[50,90],[50,87]])\r\n",
    "scores3 = solution([[70,49,90],[68,50,38],[73,31,100]])\r\n",
    "\r\n",
    "print(\"scores1 : [[100,90,98,88,65],[50,45,99,85,77],[47,88,95,80,67],[61,57,100,80,65],[24,90,94,75,65]] \\t result : \", scores1)\r\n",
    "print(\"scores2 : [[50,90],[50,87]] \\t result : \", scores2)\r\n",
    "print(\"scores3 : [[70,49,90],[68,50,38],[73,31,100]] \\t result : \", scores3)\r\n"
   ]
  },
  {
   "cell_type": "code",
   "execution_count": null,
   "metadata": {},
   "outputs": [],
   "source": []
  }
 ],
 "metadata": {
  "kernelspec": {
   "display_name": "Python 3.8.3 64-bit",
   "name": "python383jvsc74a57bd01f19f11acd7ec6b501b4b7e19aa05f8a6901012cab7bd969d3db41df9c9abd2e"
  },
  "language_info": {
   "codemirror_mode": {
    "name": "ipython",
    "version": 3
   },
   "file_extension": ".py",
   "mimetype": "text/x-python",
   "name": "python",
   "nbconvert_exporter": "python",
   "pygments_lexer": "ipython3",
   "version": "3.8.3"
  },
  "metadata": {
   "interpreter": {
    "hash": "1f19f11acd7ec6b501b4b7e19aa05f8a6901012cab7bd969d3db41df9c9abd2e"
   }
  },
  "orig_nbformat": 2
 },
 "nbformat": 4,
 "nbformat_minor": 2
}