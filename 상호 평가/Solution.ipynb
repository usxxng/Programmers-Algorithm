{
 "cells": [
  {
   "cell_type": "code",
   "execution_count": 1,
   "metadata": {},
   "outputs": [
    {
     "name": "stdout",
     "output_type": "stream",
     "text": [
      "s1 : one4seveneight \t result : 1478\n",
      "s2 : 23four5six7 \t result : 234567\n",
      "s3 : 2three45sixseven \t result : 234567\n",
      "s4 : 123 \t result : 123\n"
     ]
    }
   ],
   "source": [
    "def solution(s):\r\n",
    "    eng = {0:\"zero\", 1:\"one\", 2:\"two\", 3:\"three\", 4:\"four\", 5:\"five\", 6:\"six\", 7:\"seven\", 8:\"eight\", 9:\"nine\"}\r\n",
    "    \r\n",
    "    for i in range(10):\r\n",
    "        if eng[i] in s:\r\n",
    "            s = s.replace(eng[i], str(i))\r\n",
    "            \r\n",
    "    return int(s)\r\n",
    "\r\n",
    "# Code Test\r\n",
    "\r\n",
    "s1 = \"one4seveneight\"\r\n",
    "s2 = \"23four5six7\"\r\n",
    "s3 = \"2three45sixseven\"\r\n",
    "s4 = \"123\"\r\n",
    "\r\n",
    "print(\"s1 : {} \\t result : {}\".format(s1, solution(s1)))\r\n",
    "print(\"s2 : {} \\t result : {}\".format(s2, solution(s2)))\r\n",
    "print(\"s3 : {} \\t result : {}\".format(s3, solution(s3)))\r\n",
    "print(\"s4 : {} \\t result : {}\".format(s4, solution(s4)))\r\n"
   ]
  },
  {
   "cell_type": "code",
   "execution_count": null,
   "metadata": {},
   "outputs": [],
   "source": []
  }
 ],
 "metadata": {
  "kernelspec": {
   "display_name": "Python 3.8.3 64-bit",
   "name": "python383jvsc74a57bd01f19f11acd7ec6b501b4b7e19aa05f8a6901012cab7bd969d3db41df9c9abd2e"
  },
  "language_info": {
   "codemirror_mode": {
    "name": "ipython",
    "version": 3
   },
   "file_extension": ".py",
   "mimetype": "text/x-python",
   "name": "python",
   "nbconvert_exporter": "python",
   "pygments_lexer": "ipython3",
   "version": "3.8.3"
  },
  "metadata": {
   "interpreter": {
    "hash": "1f19f11acd7ec6b501b4b7e19aa05f8a6901012cab7bd969d3db41df9c9abd2e"
   }
  },
  "orig_nbformat": 2
 },
 "nbformat": 4,
 "nbformat_minor": 2
}