{
 "metadata": {
  "language_info": {
   "codemirror_mode": {
    "name": "ipython",
    "version": 3
   },
   "file_extension": ".py",
   "mimetype": "text/x-python",
   "name": "python",
   "nbconvert_exporter": "python",
   "pygments_lexer": "ipython3",
   "version": "3.8.3-final"
  },
  "orig_nbformat": 2,
  "kernelspec": {
   "name": "python3",
   "display_name": "Python 3",
   "language": "python"
  }
 },
 "nbformat": 4,
 "nbformat_minor": 2,
 "cells": [
  {
   "cell_type": "code",
   "execution_count": null,
   "metadata": {},
   "outputs": [],
   "source": [
    "def solution(a, b):\n",
    "    answer = 0\n",
    "    if a < b:\n",
    "        for i in range(a,b+1):\n",
    "            answer += i\n",
    "        else:\n",
    "            for i in range(b,a+1):\n",
    "                answer += i\n",
    "\n",
    "        return answer\n",
    "\n",
    "\n",
    "# Code Test\n",
    "a1 = 3; a2 = 3; a3 = 5\n",
    "b1 = 5; b2 = 3; b3 = 3\n",
    "\n",
    "output1 = solution(a1, b1)\n",
    "output2 = solution(a2, b2)\n",
    "output3 = solution(a3, b3)\n",
    "\n",
    "print(\"a : \", a1, \"b : \", b1, \"\\t result : \", output1)\n",
    "print(\"a : \", a2, \"b : \", b2, \"\\t result : \", output2)\n",
    "print(\"a : \", a3, \"b : \", b3, \"\\t result : \", output3)"
   ]
  }
 ]
}