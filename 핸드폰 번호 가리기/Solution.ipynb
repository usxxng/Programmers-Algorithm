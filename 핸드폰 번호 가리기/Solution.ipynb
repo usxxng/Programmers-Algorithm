{
 "metadata": {
  "language_info": {
   "codemirror_mode": {
    "name": "ipython",
    "version": 3
   },
   "file_extension": ".py",
   "mimetype": "text/x-python",
   "name": "python",
   "nbconvert_exporter": "python",
   "pygments_lexer": "ipython3",
   "version": "3.8.3-final"
  },
  "orig_nbformat": 2,
  "kernelspec": {
   "name": "python3",
   "display_name": "Python 3.8.3 64-bit",
   "metadata": {
    "interpreter": {
     "hash": "1f19f11acd7ec6b501b4b7e19aa05f8a6901012cab7bd969d3db41df9c9abd2e"
    }
   }
  }
 },
 "nbformat": 4,
 "nbformat_minor": 2,
 "cells": [
  {
   "cell_type": "code",
   "execution_count": 1,
   "metadata": {},
   "outputs": [
    {
     "output_type": "stream",
     "name": "stdout",
     "text": [
      "phone_number : 01033334444 \t return :  *******4444\nphone_number : 027778888 \t return :  *****8888\n"
     ]
    }
   ],
   "source": [
    "def solution(phone_number):\n",
    "    answer = len(phone_number[:-4])*'*'\n",
    "    answer += phone_number[-4:]\n",
    "    \n",
    "    return answer\n",
    "\n",
    "\n",
    "# code test\n",
    "\n",
    "print(\"phone_number : 01033334444 \\t return : \", solution(\"01033334444\"))\n",
    "print(\"phone_number : 027778888 \\t return : \", solution(\"027778888\"))"
   ]
  },
  {
   "cell_type": "code",
   "execution_count": null,
   "metadata": {},
   "outputs": [],
   "source": []
  }
 ]
}