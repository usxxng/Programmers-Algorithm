{
 "metadata": {
  "language_info": {
   "codemirror_mode": {
    "name": "ipython",
    "version": 3
   },
   "file_extension": ".py",
   "mimetype": "text/x-python",
   "name": "python",
   "nbconvert_exporter": "python",
   "pygments_lexer": "ipython3",
   "version": "3.8.3-final"
  },
  "orig_nbformat": 2,
  "kernelspec": {
   "name": "python3",
   "display_name": "Python 3",
   "language": "python"
  }
 },
 "nbformat": 4,
 "nbformat_minor": 2,
 "cells": [
  {
   "cell_type": "code",
   "execution_count": 1,
   "metadata": {},
   "outputs": [
    {
     "output_type": "stream",
     "name": "stdout",
     "text": [
      "N : 123 \t answer :  6\nN : 987 \t answer :  24\n"
     ]
    }
   ],
   "source": [
    "def solution(n):\n",
    "    sum = 0\n",
    "    sp = str(n)\n",
    "    for i in range(len(sp)):\n",
    "        sum += int(sp[i])\n",
    "\n",
    "    return sum\n",
    "\n",
    "\n",
    "# Code Test\n",
    "test1 = solution(123)\n",
    "test2 = solution(987)\n",
    "\n",
    "print(\"N : 123 \\t answer : \", test1)\n",
    "print(\"N : 987 \\t answer : \", test2)"
   ]
  },
  {
   "cell_type": "code",
   "execution_count": null,
   "metadata": {},
   "outputs": [],
   "source": []
  }
 ]
}