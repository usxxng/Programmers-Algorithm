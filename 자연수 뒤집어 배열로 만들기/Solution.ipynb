{
 "cells": [
  {
   "cell_type": "code",
   "execution_count": 1,
   "metadata": {},
   "outputs": [],
   "source": [
    "def solution(participant, completion):\r\n",
    "    participant.sort()\r\n",
    "    completion.sort()\r\n",
    "    for p,c in zip(participant, completion):\r\n",
    "        if p != c:\r\n",
    "            return p\r\n",
    "\r\n",
    "    return participant.pop()\r\n"
   ]
  },
  {
   "cell_type": "code",
   "execution_count": null,
   "metadata": {},
   "outputs": [],
   "source": []
  }
 ],
 "metadata": {
  "kernelspec": {
   "display_name": "Python 3.8.3 64-bit",
   "name": "python383jvsc74a57bd01f19f11acd7ec6b501b4b7e19aa05f8a6901012cab7bd969d3db41df9c9abd2e"
  },
  "language_info": {
   "codemirror_mode": {
    "name": "ipython",
    "version": 3
   },
   "file_extension": ".py",
   "mimetype": "text/x-python",
   "name": "python",
   "nbconvert_exporter": "python",
   "pygments_lexer": "ipython3",
   "version": "3.8.3"
  },
  "metadata": {
   "interpreter": {
    "hash": "1f19f11acd7ec6b501b4b7e19aa05f8a6901012cab7bd969d3db41df9c9abd2e"
   }
  },
  "orig_nbformat": 2
 },
 "nbformat": 4,
 "nbformat_minor": 2
}