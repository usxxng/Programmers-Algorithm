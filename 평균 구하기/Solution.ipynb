{
 "metadata": {
  "language_info": {
   "codemirror_mode": {
    "name": "ipython",
    "version": 3
   },
   "file_extension": ".py",
   "mimetype": "text/x-python",
   "name": "python",
   "nbconvert_exporter": "python",
   "pygments_lexer": "ipython3",
   "version": "3.8.3-final"
  },
  "orig_nbformat": 2,
  "kernelspec": {
   "name": "python3",
   "display_name": "Python 3",
   "language": "python"
  }
 },
 "nbformat": 4,
 "nbformat_minor": 2,
 "cells": [
  {
   "cell_type": "code",
   "execution_count": 1,
   "metadata": {},
   "outputs": [
    {
     "output_type": "stream",
     "name": "stdout",
     "text": [
      "arr :  [1, 2, 3, 4] \t return :  2.5\narr :  [5, 5] \t return :  5.0\n"
     ]
    }
   ],
   "source": [
    "def solution(arr):\n",
    "    answer = 0\n",
    "    sum = 0\n",
    "    for i in arr:\n",
    "        sum += i\n",
    "\n",
    "    answer = sum / len(arr)\n",
    "\n",
    "    return answer\n",
    "\n",
    "\n",
    "# Code Test\n",
    "test1 = [1,2,3,4]\n",
    "test2 = [5,5]\n",
    "\n",
    "output1 = solution(test1)\n",
    "output2 = solution(test2)\n",
    "\n",
    "print(\"arr : \", test1, \"\\t return : \", output1)\n",
    "print(\"arr : \", test2, \"\\t return : \", output2)"
   ]
  },
  {
   "cell_type": "code",
   "execution_count": null,
   "metadata": {},
   "outputs": [],
   "source": []
  }
 ]
}