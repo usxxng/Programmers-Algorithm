{
 "metadata": {
  "language_info": {
   "codemirror_mode": {
    "name": "ipython",
    "version": 3
   },
   "file_extension": ".py",
   "mimetype": "text/x-python",
   "name": "python",
   "nbconvert_exporter": "python",
   "pygments_lexer": "ipython3",
   "version": "3.8.3-final"
  },
  "orig_nbformat": 2,
  "kernelspec": {
   "name": "python3",
   "display_name": "Python 3.8.3 64-bit",
   "metadata": {
    "interpreter": {
     "hash": "1f19f11acd7ec6b501b4b7e19aa05f8a6901012cab7bd969d3db41df9c9abd2e"
    }
   }
  }
 },
 "nbformat": 4,
 "nbformat_minor": 2,
 "cells": [
  {
   "cell_type": "code",
   "execution_count": 4,
   "metadata": {},
   "outputs": [
    {
     "output_type": "stream",
     "name": "stdout",
     "text": [
      "arr :  [4, 3, 2, 1] \t return :  [4, 3, 2]\narr :  [10] \t return :  [-1]\n"
     ]
    }
   ],
   "source": [
    "def solution(arr):\n",
    "    ans = []\n",
    "    if len(arr) < 2:\n",
    "        ans.append(-1)\n",
    "        return ans\n",
    "    arr.remove(min(arr))\n",
    "    return arr\n",
    "\n",
    "\n",
    "# Code Test\n",
    "result1 = solution([4,3,2,1])\n",
    "result2 = solution([10])\n",
    "\n",
    "print(\"arr : \", [4,3,2,1], \"\\t return : \", result1)\n",
    "print(\"arr : \", [10], \"\\t return : \", result2)"
   ]
  },
  {
   "cell_type": "code",
   "execution_count": null,
   "metadata": {},
   "outputs": [],
   "source": []
  }
 ]
}